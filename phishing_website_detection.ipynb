{
 "cells": [
  {
   "cell_type": "code",
   "execution_count": 1,
   "id": "e93aa8d6",
   "metadata": {
    "_cell_guid": "b1076dfc-b9ad-4769-8c92-a6c4dae69d19",
    "_uuid": "8f2839f25d086af736a60e9eeb907d3b93b6e0e5",
    "execution": {
     "iopub.execute_input": "2021-09-03T04:37:11.751431Z",
     "iopub.status.busy": "2021-09-03T04:37:11.750292Z",
     "iopub.status.idle": "2021-09-03T04:37:11.768181Z",
     "shell.execute_reply": "2021-09-03T04:37:11.768896Z",
     "shell.execute_reply.started": "2021-09-03T04:36:12.083745Z"
    },
    "papermill": {
     "duration": 0.039726,
     "end_time": "2021-09-03T04:37:11.769275",
     "exception": false,
     "start_time": "2021-09-03T04:37:11.729549",
     "status": "completed"
    },
    "tags": []
   },
   "outputs": [
    {
     "name": "stdout",
     "output_type": "stream",
     "text": [
      "/kaggle/input/phishing-website-dataset/dataset.csv\n"
     ]
    }
   ],
   "source": [
    "# This Python 3 environment comes with many helpful analytics libraries installed\n",
    "# It is defined by the kaggle/python Docker image: https://github.com/kaggle/docker-python\n",
    "# For example, here's several helpful packages to load\n",
    "\n",
    "import numpy as np # linear algebra\n",
    "import pandas as pd # data processing, CSV file I/O (e.g. pd.read_csv)\n",
    "from time import perf_counter\n",
    "# Input data files are available in the read-only \"../input/\" directory\n",
    "# For example, running this (by clicking run or pressing Shift+Enter) will list all files under the input directory\n",
    "import matplotlib.pyplot as plt\n",
    "import os\n",
    "for dirname, _, filenames in os.walk('/kaggle/input'):\n",
    "    for filename in filenames:\n",
    "        print(os.path.join(dirname, filename))\n",
    "from IPython.display import Markdown, display\n",
    "def printmd(string):\n",
    "    # Print with Markdowns    \n",
    "    display(Markdown(string))\n",
    "        \n",
    "\n",
    "# You can write up to 20GB to the current directory (/kaggle/working/) that gets preserved as output when you create a version using \"Save & Run All\" \n",
    "# You can also write temporary files to /kaggle/temp/, but they won't be saved outside of the current session"
   ]
  },
  {
   "cell_type": "code",
   "execution_count": 2,
   "id": "96f7b6f7",
   "metadata": {
    "execution": {
     "iopub.execute_input": "2021-09-03T04:37:11.808221Z",
     "iopub.status.busy": "2021-09-03T04:37:11.807531Z",
     "iopub.status.idle": "2021-09-03T04:37:11.942980Z",
     "shell.execute_reply": "2021-09-03T04:37:11.943539Z",
     "shell.execute_reply.started": "2021-09-03T04:36:12.114078Z"
    },
    "papermill": {
     "duration": 0.15706,
     "end_time": "2021-09-03T04:37:11.943728",
     "exception": false,
     "start_time": "2021-09-03T04:37:11.786668",
     "status": "completed"
    },
    "tags": []
   },
   "outputs": [],
   "source": [
    "df=pd.read_csv('../input/phishing-website-dataset/dataset.csv')"
   ]
  },
  {
   "cell_type": "code",
   "execution_count": 3,
   "id": "ebb67d6c",
   "metadata": {
    "execution": {
     "iopub.execute_input": "2021-09-03T04:37:11.986564Z",
     "iopub.status.busy": "2021-09-03T04:37:11.985831Z",
     "iopub.status.idle": "2021-09-03T04:37:12.010449Z",
     "shell.execute_reply": "2021-09-03T04:37:12.010923Z",
     "shell.execute_reply.started": "2021-09-03T04:36:12.268571Z"
    },
    "papermill": {
     "duration": 0.05066,
     "end_time": "2021-09-03T04:37:12.011103",
     "exception": false,
     "start_time": "2021-09-03T04:37:11.960443",
     "status": "completed"
    },
    "tags": []
   },
   "outputs": [
    {
     "data": {
      "text/html": [
       "<div>\n",
       "<style scoped>\n",
       "    .dataframe tbody tr th:only-of-type {\n",
       "        vertical-align: middle;\n",
       "    }\n",
       "\n",
       "    .dataframe tbody tr th {\n",
       "        vertical-align: top;\n",
       "    }\n",
       "\n",
       "    .dataframe thead th {\n",
       "        text-align: right;\n",
       "    }\n",
       "</style>\n",
       "<table border=\"1\" class=\"dataframe\">\n",
       "  <thead>\n",
       "    <tr style=\"text-align: right;\">\n",
       "      <th></th>\n",
       "      <th>index</th>\n",
       "      <th>having_IPhaving_IP_Address</th>\n",
       "      <th>URLURL_Length</th>\n",
       "      <th>Shortining_Service</th>\n",
       "      <th>having_At_Symbol</th>\n",
       "      <th>double_slash_redirecting</th>\n",
       "      <th>Prefix_Suffix</th>\n",
       "      <th>having_Sub_Domain</th>\n",
       "      <th>SSLfinal_State</th>\n",
       "      <th>Domain_registeration_length</th>\n",
       "      <th>...</th>\n",
       "      <th>popUpWidnow</th>\n",
       "      <th>Iframe</th>\n",
       "      <th>age_of_domain</th>\n",
       "      <th>DNSRecord</th>\n",
       "      <th>web_traffic</th>\n",
       "      <th>Page_Rank</th>\n",
       "      <th>Google_Index</th>\n",
       "      <th>Links_pointing_to_page</th>\n",
       "      <th>Statistical_report</th>\n",
       "      <th>Result</th>\n",
       "    </tr>\n",
       "  </thead>\n",
       "  <tbody>\n",
       "    <tr>\n",
       "      <th>0</th>\n",
       "      <td>1</td>\n",
       "      <td>-1</td>\n",
       "      <td>1</td>\n",
       "      <td>1</td>\n",
       "      <td>1</td>\n",
       "      <td>-1</td>\n",
       "      <td>-1</td>\n",
       "      <td>-1</td>\n",
       "      <td>-1</td>\n",
       "      <td>-1</td>\n",
       "      <td>...</td>\n",
       "      <td>1</td>\n",
       "      <td>1</td>\n",
       "      <td>-1</td>\n",
       "      <td>-1</td>\n",
       "      <td>-1</td>\n",
       "      <td>-1</td>\n",
       "      <td>1</td>\n",
       "      <td>1</td>\n",
       "      <td>-1</td>\n",
       "      <td>-1</td>\n",
       "    </tr>\n",
       "    <tr>\n",
       "      <th>1</th>\n",
       "      <td>2</td>\n",
       "      <td>1</td>\n",
       "      <td>1</td>\n",
       "      <td>1</td>\n",
       "      <td>1</td>\n",
       "      <td>1</td>\n",
       "      <td>-1</td>\n",
       "      <td>0</td>\n",
       "      <td>1</td>\n",
       "      <td>-1</td>\n",
       "      <td>...</td>\n",
       "      <td>1</td>\n",
       "      <td>1</td>\n",
       "      <td>-1</td>\n",
       "      <td>-1</td>\n",
       "      <td>0</td>\n",
       "      <td>-1</td>\n",
       "      <td>1</td>\n",
       "      <td>1</td>\n",
       "      <td>1</td>\n",
       "      <td>-1</td>\n",
       "    </tr>\n",
       "    <tr>\n",
       "      <th>2</th>\n",
       "      <td>3</td>\n",
       "      <td>1</td>\n",
       "      <td>0</td>\n",
       "      <td>1</td>\n",
       "      <td>1</td>\n",
       "      <td>1</td>\n",
       "      <td>-1</td>\n",
       "      <td>-1</td>\n",
       "      <td>-1</td>\n",
       "      <td>-1</td>\n",
       "      <td>...</td>\n",
       "      <td>1</td>\n",
       "      <td>1</td>\n",
       "      <td>1</td>\n",
       "      <td>-1</td>\n",
       "      <td>1</td>\n",
       "      <td>-1</td>\n",
       "      <td>1</td>\n",
       "      <td>0</td>\n",
       "      <td>-1</td>\n",
       "      <td>-1</td>\n",
       "    </tr>\n",
       "  </tbody>\n",
       "</table>\n",
       "<p>3 rows × 32 columns</p>\n",
       "</div>"
      ],
      "text/plain": [
       "   index  having_IPhaving_IP_Address  URLURL_Length  Shortining_Service  \\\n",
       "0      1                          -1              1                   1   \n",
       "1      2                           1              1                   1   \n",
       "2      3                           1              0                   1   \n",
       "\n",
       "   having_At_Symbol  double_slash_redirecting  Prefix_Suffix  \\\n",
       "0                 1                        -1             -1   \n",
       "1                 1                         1             -1   \n",
       "2                 1                         1             -1   \n",
       "\n",
       "   having_Sub_Domain  SSLfinal_State  Domain_registeration_length  ...  \\\n",
       "0                 -1              -1                           -1  ...   \n",
       "1                  0               1                           -1  ...   \n",
       "2                 -1              -1                           -1  ...   \n",
       "\n",
       "   popUpWidnow  Iframe  age_of_domain  DNSRecord  web_traffic  Page_Rank  \\\n",
       "0            1       1             -1         -1           -1         -1   \n",
       "1            1       1             -1         -1            0         -1   \n",
       "2            1       1              1         -1            1         -1   \n",
       "\n",
       "   Google_Index  Links_pointing_to_page  Statistical_report  Result  \n",
       "0             1                       1                  -1      -1  \n",
       "1             1                       1                   1      -1  \n",
       "2             1                       0                  -1      -1  \n",
       "\n",
       "[3 rows x 32 columns]"
      ]
     },
     "execution_count": 3,
     "metadata": {},
     "output_type": "execute_result"
    }
   ],
   "source": [
    "df.head(3)"
   ]
  },
  {
   "cell_type": "code",
   "execution_count": 4,
   "id": "32088adb",
   "metadata": {
    "execution": {
     "iopub.execute_input": "2021-09-03T04:37:12.048309Z",
     "iopub.status.busy": "2021-09-03T04:37:12.047612Z",
     "iopub.status.idle": "2021-09-03T04:37:12.053894Z",
     "shell.execute_reply": "2021-09-03T04:37:12.053404Z",
     "shell.execute_reply.started": "2021-09-03T04:36:12.304087Z"
    },
    "papermill": {
     "duration": 0.025867,
     "end_time": "2021-09-03T04:37:12.054051",
     "exception": false,
     "start_time": "2021-09-03T04:37:12.028184",
     "status": "completed"
    },
    "tags": []
   },
   "outputs": [
    {
     "data": {
      "text/plain": [
       "(11055, 32)"
      ]
     },
     "execution_count": 4,
     "metadata": {},
     "output_type": "execute_result"
    }
   ],
   "source": [
    "df.shape"
   ]
  },
  {
   "cell_type": "code",
   "execution_count": 5,
   "id": "85887a9e",
   "metadata": {
    "execution": {
     "iopub.execute_input": "2021-09-03T04:37:12.093112Z",
     "iopub.status.busy": "2021-09-03T04:37:12.092480Z",
     "iopub.status.idle": "2021-09-03T04:37:13.152006Z",
     "shell.execute_reply": "2021-09-03T04:37:13.151468Z",
     "shell.execute_reply.started": "2021-09-03T04:36:12.310742Z"
    },
    "papermill": {
     "duration": 1.080918,
     "end_time": "2021-09-03T04:37:13.152261",
     "exception": false,
     "start_time": "2021-09-03T04:37:12.071343",
     "status": "completed"
    },
    "tags": []
   },
   "outputs": [
    {
     "name": "stderr",
     "output_type": "stream",
     "text": [
      "/opt/conda/lib/python3.7/site-packages/seaborn/_decorators.py:43: FutureWarning: Pass the following variable as a keyword arg: x. From version 0.12, the only valid positional argument will be `data`, and passing other arguments without an explicit keyword will result in an error or misinterpretation.\n",
      "  FutureWarning\n"
     ]
    },
    {
     "data": {
      "text/plain": [
       "<AxesSubplot:xlabel='Result', ylabel='count'>"
      ]
     },
     "execution_count": 5,
     "metadata": {},
     "output_type": "execute_result"
    },
    {
     "data": {
      "image/png": "[encoded data removed]",
      "text/plain": [
       "<Figure size 432x288 with 1 Axes>"
      ]
     },
     "metadata": {
      "needs_background": "light"
     },
     "output_type": "display_data"
    }
   ],
   "source": [
    "import seaborn as sns\n",
    "sns.countplot(df['Result'])"
   ]
  },
  {
   "cell_type": "code",
   "execution_count": 6,
   "id": "9aa67d87",
   "metadata": {
    "execution": {
     "iopub.execute_input": "2021-09-03T04:37:13.196268Z",
     "iopub.status.busy": "2021-09-03T04:37:13.195285Z",
     "iopub.status.idle": "2021-09-03T04:37:13.215925Z",
     "shell.execute_reply": "2021-09-03T04:37:13.214970Z",
     "shell.execute_reply.started": "2021-09-03T04:36:13.491133Z"
    },
    "papermill": {
     "duration": 0.044789,
     "end_time": "2021-09-03T04:37:13.216117",
     "exception": false,
     "start_time": "2021-09-03T04:37:13.171328",
     "status": "completed"
    },
    "tags": []
   },
   "outputs": [
    {
     "name": "stdout",
     "output_type": "stream",
     "text": [
      "having_IPhaving_IP_Address [-1  1]\n",
      "URLURL_Length [ 1  0 -1]\n",
      "Shortining_Service [ 1 -1]\n",
      "having_At_Symbol [ 1 -1]\n",
      "double_slash_redirecting [-1  1]\n",
      "Prefix_Suffix [-1  1]\n",
      "having_Sub_Domain [-1  0  1]\n",
      "SSLfinal_State [-1  1  0]\n",
      "Domain_registeration_length [-1  1]\n",
      "Favicon [ 1 -1]\n",
      "port [ 1 -1]\n",
      "HTTPS_token [-1  1]\n",
      "Request_URL [ 1 -1]\n",
      "URL_of_Anchor [-1  0  1]\n",
      "Links_in_tags [ 1 -1  0]\n",
      "SFH [-1  1  0]\n",
      "Submitting_to_email [-1  1]\n",
      "Abnormal_URL [-1  1]\n",
      "Redirect [0 1]\n",
      "on_mouseover [ 1 -1]\n",
      "RightClick [ 1 -1]\n",
      "popUpWidnow [ 1 -1]\n",
      "Iframe [ 1 -1]\n",
      "age_of_domain [-1  1]\n",
      "DNSRecord [-1  1]\n",
      "web_traffic [-1  0  1]\n",
      "Page_Rank [-1  1]\n",
      "Google_Index [ 1 -1]\n",
      "Links_pointing_to_page [ 1  0 -1]\n",
      "Statistical_report [-1  1]\n",
      "Result [-1  1]\n"
     ]
    }
   ],
   "source": [
    "col=df.columns\n",
    "for i in col:\n",
    "     if  i!='index':\n",
    "        print(i,df[i].unique())\n"
   ]
  },
  {
   "cell_type": "code",
   "execution_count": 7,
   "id": "cff0be46",
   "metadata": {
    "execution": {
     "iopub.execute_input": "2021-09-03T04:37:13.260937Z",
     "iopub.status.busy": "2021-09-03T04:37:13.260279Z",
     "iopub.status.idle": "2021-09-03T04:37:13.263863Z",
     "shell.execute_reply": "2021-09-03T04:37:13.263344Z",
     "shell.execute_reply.started": "2021-09-03T04:36:13.518537Z"
    },
    "papermill": {
     "duration": 0.02717,
     "end_time": "2021-09-03T04:37:13.264009",
     "exception": false,
     "start_time": "2021-09-03T04:37:13.236839",
     "status": "completed"
    },
    "tags": []
   },
   "outputs": [],
   "source": [
    "df['Result']=df['Result'].replace(-1,0)"
   ]
  },
  {
   "cell_type": "code",
   "execution_count": 8,
   "id": "18af0aa7",
   "metadata": {
    "execution": {
     "iopub.execute_input": "2021-09-03T04:37:13.307347Z",
     "iopub.status.busy": "2021-09-03T04:37:13.306655Z",
     "iopub.status.idle": "2021-09-03T04:37:13.349360Z",
     "shell.execute_reply": "2021-09-03T04:37:13.349854Z",
     "shell.execute_reply.started": "2021-09-03T04:36:13.526914Z"
    },
    "papermill": {
     "duration": 0.06666,
     "end_time": "2021-09-03T04:37:13.350097",
     "exception": false,
     "start_time": "2021-09-03T04:37:13.283437",
     "status": "completed"
    },
    "tags": []
   },
   "outputs": [
    {
     "name": "stdout",
     "output_type": "stream",
     "text": [
      "Domain_registeration_length   -0.225789\n",
      "Shortining_Service            -0.067966\n",
      "Abnormal_URL                  -0.060488\n",
      "HTTPS_token                   -0.039854\n",
      "double_slash_redirecting      -0.038608\n",
      "Redirect                      -0.020113\n",
      "Iframe                        -0.003394\n",
      "Favicon                       -0.000280\n",
      "popUpWidnow                    0.000086\n",
      "index                          0.000978\n",
      "RightClick                     0.012653\n",
      "Submitting_to_email            0.018249\n",
      "Links_pointing_to_page         0.032574\n",
      "port                           0.036419\n",
      "on_mouseover                   0.041838\n",
      "having_At_Symbol               0.052948\n",
      "URLURL_Length                  0.057430\n",
      "DNSRecord                      0.075718\n",
      "Statistical_report             0.079857\n",
      "having_IPhaving_IP_Address     0.094160\n",
      "Page_Rank                      0.104645\n",
      "age_of_domain                  0.121496\n",
      "Google_Index                   0.128950\n",
      "SFH                            0.221419\n",
      "Links_in_tags                  0.248229\n",
      "Request_URL                    0.253372\n",
      "having_Sub_Domain              0.298323\n",
      "web_traffic                    0.346103\n",
      "Prefix_Suffix                  0.348606\n",
      "URL_of_Anchor                  0.692935\n",
      "SSLfinal_State                 0.714741\n",
      "Result                         1.000000\n",
      "Name: Result, dtype: float64\n"
     ]
    }
   ],
   "source": [
    "print(df.corr()['Result'].sort_values())    "
   ]
  },
  {
   "cell_type": "code",
   "execution_count": 9,
   "id": "b3ce0f9d",
   "metadata": {
    "execution": {
     "iopub.execute_input": "2021-09-03T04:37:13.394437Z",
     "iopub.status.busy": "2021-09-03T04:37:13.393690Z",
     "iopub.status.idle": "2021-09-03T04:37:14.582358Z",
     "shell.execute_reply": "2021-09-03T04:37:14.582907Z",
     "shell.execute_reply.started": "2021-09-03T04:36:13.582413Z"
    },
    "papermill": {
     "duration": 1.213661,
     "end_time": "2021-09-03T04:37:14.583077",
     "exception": false,
     "start_time": "2021-09-03T04:37:13.369416",
     "status": "completed"
    },
    "tags": []
   },
   "outputs": [
    {
     "data": {
      "text/plain": [
       "<AxesSubplot:>"
      ]
     },
     "execution_count": 9,
     "metadata": {},
     "output_type": "execute_result"
    },
    {
     "data": {
      "image/png": "[encoded data removed]",
      "text/plain": [
       "<Figure size 576x576 with 2 Axes>"
      ]
     },
     "metadata": {
      "needs_background": "light"
     },
     "output_type": "display_data"
    }
   ],
   "source": [
    "plt.figure(figsize=(8, 8))\n",
    "sns.heatmap(df.corr(), linewidths=.5)"
   ]
  },
  {
   "cell_type": "code",
   "execution_count": 10,
   "id": "55271868",
   "metadata": {
    "execution": {
     "iopub.execute_input": "2021-09-03T04:37:14.638313Z",
     "iopub.status.busy": "2021-09-03T04:37:14.635447Z",
     "iopub.status.idle": "2021-09-03T04:37:14.822167Z",
     "shell.execute_reply": "2021-09-03T04:37:14.821610Z",
     "shell.execute_reply.started": "2021-09-03T04:36:14.836969Z"
    },
    "papermill": {
     "duration": 0.216623,
     "end_time": "2021-09-03T04:37:14.822333",
     "exception": false,
     "start_time": "2021-09-03T04:37:14.605710",
     "status": "completed"
    },
    "tags": []
   },
   "outputs": [],
   "source": [
    "from sklearn.model_selection import train_test_split,cross_val_score\n",
    "\n",
    "X= df.drop(columns='Result')\n",
    "Y=df['Result']\n",
    "\n",
    "train_X,test_X,train_Y,test_Y=train_test_split(X,Y,test_size=0.3,random_state=2)\n",
    "Accuracy=[]\n",
    "Duration=[]"
   ]
  },
  {
   "cell_type": "code",
   "execution_count": 11,
   "id": "df76a65c",
   "metadata": {
    "execution": {
     "iopub.execute_input": "2021-09-03T04:37:14.873564Z",
     "iopub.status.busy": "2021-09-03T04:37:14.872826Z",
     "iopub.status.idle": "2021-09-03T04:37:15.159218Z",
     "shell.execute_reply": "2021-09-03T04:37:15.160078Z",
     "shell.execute_reply.started": "2021-09-03T04:36:15.065121Z"
    },
    "papermill": {
     "duration": 0.31619,
     "end_time": "2021-09-03T04:37:15.160345",
     "exception": false,
     "start_time": "2021-09-03T04:37:14.844155",
     "status": "completed"
    },
    "tags": []
   },
   "outputs": [
    {
     "name": "stdout",
     "output_type": "stream",
     "text": [
      "0.9258365993367501\n",
      "0.2\n"
     ]
    }
   ],
   "source": [
    "from sklearn.linear_model import LogisticRegression\n",
    "from sklearn.metrics import accuracy_score\n",
    "start = perf_counter()\n",
    "logreg=LogisticRegression(solver='liblinear')\n",
    "logreg=logreg.fit(train_X,train_Y)\n",
    "prediction=logreg.predict(test_X)\n",
    "accuracy_score(prediction,test_Y)\n",
    "Accuracy.append(accuracy_score(prediction,test_Y))\n",
    "print(Accuracy[0])\n",
    "\n",
    "duration = perf_counter() - start\n",
    "duration = round(duration,2)\n",
    "Duration.append(duration)\n",
    "print(Duration[0])"
   ]
  },
  {
   "cell_type": "code",
   "execution_count": 12,
   "id": "7594f251",
   "metadata": {
    "execution": {
     "iopub.execute_input": "2021-09-03T04:37:15.246869Z",
     "iopub.status.busy": "2021-09-03T04:37:15.245866Z",
     "iopub.status.idle": "2021-09-03T04:37:15.275917Z",
     "shell.execute_reply": "2021-09-03T04:37:15.275228Z",
     "shell.execute_reply.started": "2021-09-03T04:36:15.416934Z"
    },
    "papermill": {
     "duration": 0.077369,
     "end_time": "2021-09-03T04:37:15.276069",
     "exception": false,
     "start_time": "2021-09-03T04:37:15.198700",
     "status": "completed"
    },
    "tags": []
   },
   "outputs": [
    {
     "name": "stdout",
     "output_type": "stream",
     "text": [
      "0.9035272836900814\n",
      "0.02\n"
     ]
    }
   ],
   "source": [
    "from sklearn.naive_bayes import BernoulliNB\n",
    "from sklearn.metrics import accuracy_score\n",
    "start = perf_counter()\n",
    "clf = BernoulliNB()\n",
    "clf.fit(train_X, train_Y)\n",
    "naive_predict=clf.predict(test_X)\n",
    "accuracy_score(naive_predict,test_Y)\n",
    "Accuracy.append(accuracy_score(naive_predict,test_Y))\n",
    "print(Accuracy[1])\n",
    "\n",
    "duration = perf_counter() - start\n",
    "duration = round(duration,2)\n",
    "Duration.append(duration)\n",
    "print(Duration[1])"
   ]
  },
  {
   "cell_type": "code",
   "execution_count": 13,
   "id": "34fbd67e",
   "metadata": {
    "execution": {
     "iopub.execute_input": "2021-09-03T04:37:15.327018Z",
     "iopub.status.busy": "2021-09-03T04:37:15.326313Z",
     "iopub.status.idle": "2021-09-03T04:37:16.125799Z",
     "shell.execute_reply": "2021-09-03T04:37:16.126570Z",
     "shell.execute_reply.started": "2021-09-03T04:36:15.460008Z"
    },
    "papermill": {
     "duration": 0.828699,
     "end_time": "2021-09-03T04:37:16.126897",
     "exception": false,
     "start_time": "2021-09-03T04:37:15.298198",
     "status": "completed"
    },
    "tags": []
   },
   "outputs": [
    {
     "name": "stdout",
     "output_type": "stream",
     "text": [
      "0.9505577328911667\n",
      "0.58\n"
     ]
    }
   ],
   "source": [
    "from sklearn.ensemble import RandomForestClassifier\n",
    "start = perf_counter()\n",
    "forest_clf = RandomForestClassifier(max_depth=10, random_state=0)\n",
    "forest_clf.fit(train_X,train_Y)\n",
    "ran_pred=forest_clf.predict(test_X)\n",
    "accuracy_score(ran_pred,test_Y)\n",
    "Accuracy.append(accuracy_score(ran_pred,test_Y))\n",
    "print(Accuracy[2])\n",
    "\n",
    "duration = perf_counter() - start\n",
    "duration = round(duration,2)\n",
    "Duration.append(duration)\n",
    "print(Duration[2])"
   ]
  },
  {
   "cell_type": "code",
   "execution_count": 14,
   "id": "e2961a54",
   "metadata": {
    "execution": {
     "iopub.execute_input": "2021-09-03T04:37:16.182245Z",
     "iopub.status.busy": "2021-09-03T04:37:16.181267Z",
     "iopub.status.idle": "2021-09-03T04:37:16.633419Z",
     "shell.execute_reply": "2021-09-03T04:37:16.633913Z",
     "shell.execute_reply.started": "2021-09-03T04:36:16.486126Z"
    },
    "papermill": {
     "duration": 0.484241,
     "end_time": "2021-09-03T04:37:16.634084",
     "exception": false,
     "start_time": "2021-09-03T04:37:16.149843",
     "status": "completed"
    },
    "tags": []
   },
   "outputs": [
    {
     "name": "stdout",
     "output_type": "stream",
     "text": [
      "[0.96745027 0.9755877  0.95840868 0.96745027 0.95750452 0.95022624\n",
      " 0.93574661 0.91945701 0.94932127 0.94570136]\n",
      "0.9526853935342394\n",
      "0.9538739825143202\n",
      "0.45\n"
     ]
    }
   ],
   "source": [
    "from sklearn.tree import DecisionTreeClassifier\n",
    "start = perf_counter()\n",
    "tree = DecisionTreeClassifier(criterion='entropy') # function to measure the quality of split \n",
    "tree.fit(train_X,train_Y)\n",
    "score = cross_val_score(tree, X, Y, cv= 10) \n",
    "print(score)\n",
    "print(score.mean())\n",
    "y_pred = tree.predict(test_X)\n",
    "Accuracy.append(accuracy_score(y_pred,test_Y))\n",
    "print(Accuracy[3])\n",
    "\n",
    "duration = perf_counter() - start\n",
    "duration = round(duration,2)\n",
    "Duration.append(duration)\n",
    "print(Duration[3])"
   ]
  },
  {
   "cell_type": "code",
   "execution_count": 15,
   "id": "8367b03a",
   "metadata": {
    "execution": {
     "iopub.execute_input": "2021-09-03T04:37:16.694339Z",
     "iopub.status.busy": "2021-09-03T04:37:16.693611Z",
     "iopub.status.idle": "2021-09-03T04:37:16.698486Z",
     "shell.execute_reply": "2021-09-03T04:37:16.697910Z",
     "shell.execute_reply.started": "2021-09-03T04:36:16.984576Z"
    },
    "papermill": {
     "duration": 0.041773,
     "end_time": "2021-09-03T04:37:16.698619",
     "exception": false,
     "start_time": "2021-09-03T04:37:16.656846",
     "status": "completed"
    },
    "tags": []
   },
   "outputs": [
    {
     "data": {
      "text/html": [
       "<div>\n",
       "<style scoped>\n",
       "    .dataframe tbody tr th:only-of-type {\n",
       "        vertical-align: middle;\n",
       "    }\n",
       "\n",
       "    .dataframe tbody tr th {\n",
       "        vertical-align: top;\n",
       "    }\n",
       "\n",
       "    .dataframe thead th {\n",
       "        text-align: right;\n",
       "    }\n",
       "</style>\n",
       "<table border=\"1\" class=\"dataframe\">\n",
       "  <thead>\n",
       "    <tr style=\"text-align: right;\">\n",
       "      <th></th>\n",
       "      <th>Model</th>\n",
       "      <th>Accuracy</th>\n",
       "      <th>Training time (sec)</th>\n",
       "    </tr>\n",
       "  </thead>\n",
       "  <tbody>\n",
       "    <tr>\n",
       "      <th>0</th>\n",
       "      <td>DecisionTreeClassifier</td>\n",
       "      <td>0.953874</td>\n",
       "      <td>0.45</td>\n",
       "    </tr>\n",
       "    <tr>\n",
       "      <th>1</th>\n",
       "      <td>RandomForestClassifier</td>\n",
       "      <td>0.950558</td>\n",
       "      <td>0.58</td>\n",
       "    </tr>\n",
       "    <tr>\n",
       "      <th>2</th>\n",
       "      <td>LogisticRegression</td>\n",
       "      <td>0.925837</td>\n",
       "      <td>0.20</td>\n",
       "    </tr>\n",
       "    <tr>\n",
       "      <th>3</th>\n",
       "      <td>BernoulliNB</td>\n",
       "      <td>0.903527</td>\n",
       "      <td>0.02</td>\n",
       "    </tr>\n",
       "  </tbody>\n",
       "</table>\n",
       "</div>"
      ],
      "text/plain": [
       "                    Model  Accuracy  Training time (sec)\n",
       "0  DecisionTreeClassifier  0.953874                 0.45\n",
       "1  RandomForestClassifier  0.950558                 0.58\n",
       "2      LogisticRegression  0.925837                 0.20\n",
       "3             BernoulliNB  0.903527                 0.02"
      ]
     },
     "execution_count": 15,
     "metadata": {},
     "output_type": "execute_result"
    }
   ],
   "source": [
    "model=[\"LogisticRegression\", \"BernoulliNB\",\"RandomForestClassifier\", \"DecisionTreeClassifier\"]\n",
    "models_acc = []\n",
    "for i in range(0,4):\n",
    "    models_acc.append([model[i],Accuracy[i],Duration[i]])\n",
    "df_acc = pd.DataFrame(models_acc)\n",
    "df_acc.columns = ['Model', 'Accuracy', 'Training time (sec)']\n",
    "df_acc.sort_values(by = 'Accuracy', ascending = False, inplace=True)\n",
    "df_acc.reset_index(drop = True, inplace=True)\n",
    "df_acc"
   ]
  },
  {
   "cell_type": "code",
   "execution_count": 16,
   "id": "01c1a87d",
   "metadata": {
    "execution": {
     "iopub.execute_input": "2021-09-03T04:37:16.778273Z",
     "iopub.status.busy": "2021-09-03T04:37:16.777257Z",
     "iopub.status.idle": "2021-09-03T04:37:16.922407Z",
     "shell.execute_reply": "2021-09-03T04:37:16.922882Z",
     "shell.execute_reply.started": "2021-09-03T04:36:17.007150Z"
    },
    "papermill": {
     "duration": 0.201551,
     "end_time": "2021-09-03T04:37:16.923068",
     "exception": false,
     "start_time": "2021-09-03T04:37:16.721517",
     "status": "completed"
    },
    "tags": []
   },
   "outputs": [
    {
     "data": {
      "image/png": "[encoded data removed]",
      "text/plain": [
       "<Figure size 1080x360 with 1 Axes>"
      ]
     },
     "metadata": {
      "needs_background": "light"
     },
     "output_type": "display_data"
    }
   ],
   "source": [
    "plt.figure(figsize = (15,5))\n",
    "sns.barplot(x = 'Model', y = 'Accuracy', data = df_acc)\n",
    "plt.title('Accuracy on the test set\\n(the Y-Axis is between 0.8 and 1.0)', fontsize = 15)\n",
    "plt.ylim(0.85,1)\n",
    "plt.show()"
   ]
  },
  {
   "cell_type": "code",
   "execution_count": 17,
   "id": "dd12d05e",
   "metadata": {
    "execution": {
     "iopub.execute_input": "2021-09-03T04:37:16.997070Z",
     "iopub.status.busy": "2021-09-03T04:37:16.988441Z",
     "iopub.status.idle": "2021-09-03T04:37:17.136246Z",
     "shell.execute_reply": "2021-09-03T04:37:17.136694Z",
     "shell.execute_reply.started": "2021-09-03T04:36:17.204914Z"
    },
    "papermill": {
     "duration": 0.189079,
     "end_time": "2021-09-03T04:37:17.136874",
     "exception": false,
     "start_time": "2021-09-03T04:37:16.947795",
     "status": "completed"
    },
    "tags": []
   },
   "outputs": [
    {
     "data": {
      "image/png": "[encoded data removed]",
      "text/plain": [
       "<Figure size 1080x360 with 1 Axes>"
      ]
     },
     "metadata": {
      "needs_background": "light"
     },
     "output_type": "display_data"
    }
   ],
   "source": [
    "plt.figure(figsize = (15,5))\n",
    "sns.barplot(x = 'Model', y = 'Training time (sec)', data = df_acc)\n",
    "plt.title('Training time for each model in sec', fontsize = 15)\n",
    "plt.ylim(0,0.7)\n",
    "plt.show()"
   ]
  },
  {
   "cell_type": "code",
   "execution_count": 18,
   "id": "0d5a4948",
   "metadata": {
    "execution": {
     "iopub.execute_input": "2021-09-03T04:37:17.196298Z",
     "iopub.status.busy": "2021-09-03T04:37:17.195615Z",
     "iopub.status.idle": "2021-09-03T04:37:17.281364Z",
     "shell.execute_reply": "2021-09-03T04:37:17.280836Z",
     "shell.execute_reply.started": "2021-09-03T04:36:17.390439Z"
    },
    "papermill": {
     "duration": 0.119702,
     "end_time": "2021-09-03T04:37:17.281509",
     "exception": false,
     "start_time": "2021-09-03T04:37:17.161807",
     "status": "completed"
    },
    "tags": []
   },
   "outputs": [
    {
     "data": {
      "text/markdown": [
       "**Real: 0, Predicted: 0**"
      ],
      "text/plain": [
       "<IPython.core.display.Markdown object>"
      ]
     },
     "metadata": {},
     "output_type": "display_data"
    },
    {
     "data": {
      "text/markdown": [
       "_______________________________________________________________"
      ],
      "text/plain": [
       "<IPython.core.display.Markdown object>"
      ]
     },
     "metadata": {},
     "output_type": "display_data"
    },
    {
     "name": "stdout",
     "output_type": "stream",
     "text": [
      "\n",
      "\n"
     ]
    },
    {
     "data": {
      "text/markdown": [
       "**Real: 1, Predicted: 1**"
      ],
      "text/plain": [
       "<IPython.core.display.Markdown object>"
      ]
     },
     "metadata": {},
     "output_type": "display_data"
    },
    {
     "data": {
      "text/markdown": [
       "_______________________________________________________________"
      ],
      "text/plain": [
       "<IPython.core.display.Markdown object>"
      ]
     },
     "metadata": {},
     "output_type": "display_data"
    },
    {
     "name": "stdout",
     "output_type": "stream",
     "text": [
      "\n",
      "\n"
     ]
    },
    {
     "data": {
      "text/markdown": [
       "**Real: 1, Predicted: 1**"
      ],
      "text/plain": [
       "<IPython.core.display.Markdown object>"
      ]
     },
     "metadata": {},
     "output_type": "display_data"
    },
    {
     "data": {
      "text/markdown": [
       "_______________________________________________________________"
      ],
      "text/plain": [
       "<IPython.core.display.Markdown object>"
      ]
     },
     "metadata": {},
     "output_type": "display_data"
    },
    {
     "name": "stdout",
     "output_type": "stream",
     "text": [
      "\n",
      "\n"
     ]
    },
    {
     "data": {
      "text/markdown": [
       "**Real: 0, Predicted: 0**"
      ],
      "text/plain": [
       "<IPython.core.display.Markdown object>"
      ]
     },
     "metadata": {},
     "output_type": "display_data"
    },
    {
     "data": {
      "text/markdown": [
       "_______________________________________________________________"
      ],
      "text/plain": [
       "<IPython.core.display.Markdown object>"
      ]
     },
     "metadata": {},
     "output_type": "display_data"
    },
    {
     "name": "stdout",
     "output_type": "stream",
     "text": [
      "\n",
      "\n"
     ]
    },
    {
     "data": {
      "text/markdown": [
       "**Real: 0, Predicted: 0**"
      ],
      "text/plain": [
       "<IPython.core.display.Markdown object>"
      ]
     },
     "metadata": {},
     "output_type": "display_data"
    },
    {
     "data": {
      "text/markdown": [
       "_______________________________________________________________"
      ],
      "text/plain": [
       "<IPython.core.display.Markdown object>"
      ]
     },
     "metadata": {},
     "output_type": "display_data"
    },
    {
     "name": "stdout",
     "output_type": "stream",
     "text": [
      "\n",
      "\n"
     ]
    }
   ],
   "source": [
    "tree = DecisionTreeClassifier(criterion='entropy') # function to measure the quality of split \n",
    "tree.fit(train_X,train_Y)\n",
    "y_pred = tree.predict(test_X)\n",
    "def display_result(df):\n",
    "    for i in range (0,20,4):\n",
    "        msg = df.drop(columns='Result')\n",
    "        label = df[\"Result\"].iloc[i]\n",
    "        pred_label = tree.predict(msg)\n",
    "        printmd(f\"**Real: {label}, Predicted: {pred_label[i]}**\")\n",
    "        printmd(\"_______________________________________________________________\")\n",
    "        print()\n",
    "        print()\n",
    "display_result(df)   "
   ]
  }
 ],
 "metadata": {
  "kernelspec": {
   "display_name": "Python 3",
   "language": "python",
   "name": "python3"
  },
  "language_info": {
   "codemirror_mode": {
    "name": "ipython",
    "version": 3
   },
   "file_extension": ".py",
   "mimetype": "text/x-python",
   "name": "python",
   "nbconvert_exporter": "python",
   "pygments_lexer": "ipython3",
   "version": "3.7.10"
  },
  "papermill": {
   "default_parameters": {},
   "duration": 14.76136,
   "end_time": "2021-09-03T04:37:18.604031",
   "environment_variables": {},
   "exception": null,
   "input_path": "__notebook__.ipynb",
   "output_path": "__notebook__.ipynb",
   "parameters": {},
   "start_time": "2021-09-03T04:37:03.842671",
   "version": "2.3.3"
  }
 },
 "nbformat": 4,
 "nbformat_minor": 5
}
