{
 "cells": [
  {
   "cell_type": "code",
   "execution_count": 1,
   "id": "1199fe7d",
   "metadata": {
    "_cell_guid": "b1076dfc-b9ad-4769-8c92-a6c4dae69d19",
    "_uuid": "8f2839f25d086af736a60e9eeb907d3b93b6e0e5",
    "execution": {
     "iopub.execute_input": "2021-11-05T07:35:00.581252Z",
     "iopub.status.busy": "2021-11-05T07:35:00.580446Z",
     "iopub.status.idle": "2021-11-05T07:35:02.501627Z",
     "shell.execute_reply": "2021-11-05T07:35:02.502331Z",
     "shell.execute_reply.started": "2021-11-05T07:24:30.808135Z"
    },
    "papermill": {
     "duration": 1.961418,
     "end_time": "2021-11-05T07:35:02.502721",
     "exception": false,
     "start_time": "2021-11-05T07:35:00.541303",
     "status": "completed"
    },
    "tags": []
   },
   "outputs": [
    {
     "name": "stdout",
     "output_type": "stream",
     "text": [
      "/kaggle/input/spam-mails-dataset/spam_ham_dataset.csv\n"
     ]
    }
   ],
   "source": [
    "# This Python 3 environment comes with many helpful analytics libraries installed\n",
    "# It is defined by the kaggle/python Docker image: https://github.com/kaggle/docker-python\n",
    "# For example, here's several helpful packages to load\n",
    "\n",
    "import numpy as np # linear algebra\n",
    "import pandas as pd # data processing, CSV file I/O (e.g. pd.read_csv)\n",
    "import matplotlib.pyplot as plt\n",
    "import seaborn as sns\n",
    "from time import perf_counter\n",
    "from wordcloud import WordCloud, STOPWORDS\n",
    "import sys, email, string\n",
    "from nltk.stem import WordNetLemmatizer\n",
    "import nltk\n",
    "import os, gc, re\n",
    "from IPython.display import Markdown, display\n",
    "def printmd(string):\n",
    "    # Print with Markdowns    \n",
    "    display(Markdown(string))\n",
    "\n",
    "# Input data files are available in the read-only \"../input/\" directory\n",
    "# For example, running this (by clicking run or pressing Shift+Enter) will list all files under the input directory\n",
    "\n",
    "import os\n",
    "for dirname, _, filenames in os.walk('/kaggle/input'):\n",
    "    for filename in filenames:\n",
    "        print(os.path.join(dirname, filename))\n",
    "\n",
    "# You can write up to 20GB to the current directory (/kaggle/working/) that gets preserved as output when you create a version using \"Save & Run All\" \n",
    "# You can also write temporary files to /kaggle/temp/, but they won't be saved outside of the current session"
   ]
  },
  {
   "cell_type": "code",
   "execution_count": 2,
   "id": "b962f38b",
   "metadata": {
    "execution": {
     "iopub.execute_input": "2021-11-05T07:35:02.549592Z",
     "iopub.status.busy": "2021-11-05T07:35:02.548910Z",
     "iopub.status.idle": "2021-11-05T07:35:02.706202Z",
     "shell.execute_reply": "2021-11-05T07:35:02.705621Z",
     "shell.execute_reply.started": "2021-11-05T07:24:30.821083Z"
    },
    "papermill": {
     "duration": 0.181398,
     "end_time": "2021-11-05T07:35:02.706364",
     "exception": false,
     "start_time": "2021-11-05T07:35:02.524966",
     "status": "completed"
    },
    "tags": []
   },
   "outputs": [],
   "source": [
    "df = pd.read_csv('/kaggle/input/spam-mails-dataset/spam_ham_dataset.csv')"
   ]
  },
  {
   "cell_type": "code",
   "execution_count": 3,
   "id": "e384abbd",
   "metadata": {
    "execution": {
     "iopub.execute_input": "2021-11-05T07:35:02.761582Z",
     "iopub.status.busy": "2021-11-05T07:35:02.760879Z",
     "iopub.status.idle": "2021-11-05T07:35:02.781152Z",
     "shell.execute_reply": "2021-11-05T07:35:02.781714Z",
     "shell.execute_reply.started": "2021-11-05T07:24:30.975964Z"
    },
    "papermill": {
     "duration": 0.053169,
     "end_time": "2021-11-05T07:35:02.781897",
     "exception": false,
     "start_time": "2021-11-05T07:35:02.728728",
     "status": "completed"
    },
    "tags": []
   },
   "outputs": [
    {
     "data": {
      "text/html": [
       "<div>\n",
       "<style scoped>\n",
       "    .dataframe tbody tr th:only-of-type {\n",
       "        vertical-align: middle;\n",
       "    }\n",
       "\n",
       "    .dataframe tbody tr th {\n",
       "        vertical-align: top;\n",
       "    }\n",
       "\n",
       "    .dataframe thead th {\n",
       "        text-align: right;\n",
       "    }\n",
       "</style>\n",
       "<table border=\"1\" class=\"dataframe\">\n",
       "  <thead>\n",
       "    <tr style=\"text-align: right;\">\n",
       "      <th></th>\n",
       "      <th>Unnamed: 0</th>\n",
       "      <th>label</th>\n",
       "      <th>text</th>\n",
       "      <th>label_num</th>\n",
       "    </tr>\n",
       "  </thead>\n",
       "  <tbody>\n",
       "    <tr>\n",
       "      <th>0</th>\n",
       "      <td>605</td>\n",
       "      <td>ham</td>\n",
       "      <td>Subject: enron methanol ; meter # : 988291\\r\\n...</td>\n",
       "      <td>0</td>\n",
       "    </tr>\n",
       "    <tr>\n",
       "      <th>1</th>\n",
       "      <td>2349</td>\n",
       "      <td>ham</td>\n",
       "      <td>Subject: hpl nom for january 9 , 2001\\r\\n( see...</td>\n",
       "      <td>0</td>\n",
       "    </tr>\n",
       "    <tr>\n",
       "      <th>2</th>\n",
       "      <td>3624</td>\n",
       "      <td>ham</td>\n",
       "      <td>Subject: neon retreat\\r\\nho ho ho , we ' re ar...</td>\n",
       "      <td>0</td>\n",
       "    </tr>\n",
       "    <tr>\n",
       "      <th>3</th>\n",
       "      <td>4685</td>\n",
       "      <td>spam</td>\n",
       "      <td>Subject: photoshop , windows , office . cheap ...</td>\n",
       "      <td>1</td>\n",
       "    </tr>\n",
       "    <tr>\n",
       "      <th>4</th>\n",
       "      <td>2030</td>\n",
       "      <td>ham</td>\n",
       "      <td>Subject: re : indian springs\\r\\nthis deal is t...</td>\n",
       "      <td>0</td>\n",
       "    </tr>\n",
       "    <tr>\n",
       "      <th>5</th>\n",
       "      <td>2949</td>\n",
       "      <td>ham</td>\n",
       "      <td>Subject: ehronline web address change\\r\\nthis ...</td>\n",
       "      <td>0</td>\n",
       "    </tr>\n",
       "    <tr>\n",
       "      <th>6</th>\n",
       "      <td>2793</td>\n",
       "      <td>ham</td>\n",
       "      <td>Subject: spring savings certificate - take 30 ...</td>\n",
       "      <td>0</td>\n",
       "    </tr>\n",
       "    <tr>\n",
       "      <th>7</th>\n",
       "      <td>4185</td>\n",
       "      <td>spam</td>\n",
       "      <td>Subject: looking for medication ? we ` re the ...</td>\n",
       "      <td>1</td>\n",
       "    </tr>\n",
       "    <tr>\n",
       "      <th>8</th>\n",
       "      <td>2641</td>\n",
       "      <td>ham</td>\n",
       "      <td>Subject: noms / actual flow for 2 / 26\\r\\nwe a...</td>\n",
       "      <td>0</td>\n",
       "    </tr>\n",
       "    <tr>\n",
       "      <th>9</th>\n",
       "      <td>1870</td>\n",
       "      <td>ham</td>\n",
       "      <td>Subject: nominations for oct . 21 - 23 , 2000\\...</td>\n",
       "      <td>0</td>\n",
       "    </tr>\n",
       "  </tbody>\n",
       "</table>\n",
       "</div>"
      ],
      "text/plain": [
       "   Unnamed: 0 label                                               text  \\\n",
       "0         605   ham  Subject: enron methanol ; meter # : 988291\\r\\n...   \n",
       "1        2349   ham  Subject: hpl nom for january 9 , 2001\\r\\n( see...   \n",
       "2        3624   ham  Subject: neon retreat\\r\\nho ho ho , we ' re ar...   \n",
       "3        4685  spam  Subject: photoshop , windows , office . cheap ...   \n",
       "4        2030   ham  Subject: re : indian springs\\r\\nthis deal is t...   \n",
       "5        2949   ham  Subject: ehronline web address change\\r\\nthis ...   \n",
       "6        2793   ham  Subject: spring savings certificate - take 30 ...   \n",
       "7        4185  spam  Subject: looking for medication ? we ` re the ...   \n",
       "8        2641   ham  Subject: noms / actual flow for 2 / 26\\r\\nwe a...   \n",
       "9        1870   ham  Subject: nominations for oct . 21 - 23 , 2000\\...   \n",
       "\n",
       "   label_num  \n",
       "0          0  \n",
       "1          0  \n",
       "2          0  \n",
       "3          1  \n",
       "4          0  \n",
       "5          0  \n",
       "6          0  \n",
       "7          1  \n",
       "8          0  \n",
       "9          0  "
      ]
     },
     "execution_count": 3,
     "metadata": {},
     "output_type": "execute_result"
    }
   ],
   "source": [
    "df.head(10)"
   ]
  },
  {
   "cell_type": "code",
   "execution_count": 4,
   "id": "c5427d5e",
   "metadata": {
    "execution": {
     "iopub.execute_input": "2021-11-05T07:35:02.829231Z",
     "iopub.status.busy": "2021-11-05T07:35:02.828567Z",
     "iopub.status.idle": "2021-11-05T07:35:02.833673Z",
     "shell.execute_reply": "2021-11-05T07:35:02.834158Z",
     "shell.execute_reply.started": "2021-11-05T07:24:31.006839Z"
    },
    "papermill": {
     "duration": 0.030527,
     "end_time": "2021-11-05T07:35:02.834356",
     "exception": false,
     "start_time": "2021-11-05T07:35:02.803829",
     "status": "completed"
    },
    "tags": []
   },
   "outputs": [],
   "source": [
    "from nltk.tokenize import RegexpTokenizer\n",
    "\n",
    "def clean_str(string, reg = RegexpTokenizer(r'[a-z]+')):\n",
    "    string = string.lower()\n",
    "    tokens = reg.tokenize(string)\n",
    "    return \" \".join(tokens)"
   ]
  },
  {
   "cell_type": "code",
   "execution_count": 5,
   "id": "dcb3b27d",
   "metadata": {
    "execution": {
     "iopub.execute_input": "2021-11-05T07:35:02.881436Z",
     "iopub.status.busy": "2021-11-05T07:35:02.880782Z",
     "iopub.status.idle": "2021-11-05T07:35:03.215486Z",
     "shell.execute_reply": "2021-11-05T07:35:03.215974Z",
     "shell.execute_reply.started": "2021-11-05T07:24:31.014454Z"
    },
    "papermill": {
     "duration": 0.359873,
     "end_time": "2021-11-05T07:35:03.216158",
     "exception": false,
     "start_time": "2021-11-05T07:35:02.856285",
     "status": "completed"
    },
    "tags": []
   },
   "outputs": [],
   "source": [
    "df['text'] = df['text'].apply(lambda string: clean_str(string))"
   ]
  },
  {
   "cell_type": "code",
   "execution_count": 6,
   "id": "de96ff2d",
   "metadata": {
    "execution": {
     "iopub.execute_input": "2021-11-05T07:35:03.263398Z",
     "iopub.status.busy": "2021-11-05T07:35:03.262696Z",
     "iopub.status.idle": "2021-11-05T07:35:03.282272Z",
     "shell.execute_reply": "2021-11-05T07:35:03.281682Z",
     "shell.execute_reply.started": "2021-11-05T07:24:31.358195Z"
    },
    "papermill": {
     "duration": 0.044672,
     "end_time": "2021-11-05T07:35:03.282424",
     "exception": false,
     "start_time": "2021-11-05T07:35:03.237752",
     "status": "completed"
    },
    "tags": []
   },
   "outputs": [],
   "source": [
    "def rem_sub(i):\n",
    "    return i.replace('subject', '')\n",
    "df['text'] = df['text'].map(rem_sub)"
   ]
  },
  {
   "cell_type": "code",
   "execution_count": 7,
   "id": "9d666138",
   "metadata": {
    "execution": {
     "iopub.execute_input": "2021-11-05T07:35:03.332365Z",
     "iopub.status.busy": "2021-11-05T07:35:03.331704Z",
     "iopub.status.idle": "2021-11-05T07:35:03.335814Z",
     "shell.execute_reply": "2021-11-05T07:35:03.335224Z",
     "shell.execute_reply.started": "2021-11-05T07:24:31.379678Z"
    },
    "papermill": {
     "duration": 0.031849,
     "end_time": "2021-11-05T07:35:03.335966",
     "exception": false,
     "start_time": "2021-11-05T07:35:03.304117",
     "status": "completed"
    },
    "tags": []
   },
   "outputs": [
    {
     "data": {
      "text/plain": [
       "(5171, 4)"
      ]
     },
     "execution_count": 7,
     "metadata": {},
     "output_type": "execute_result"
    }
   ],
   "source": [
    "df.head()\n",
    "df.shape"
   ]
  },
  {
   "cell_type": "code",
   "execution_count": 8,
   "id": "8dd298d3",
   "metadata": {
    "execution": {
     "iopub.execute_input": "2021-11-05T07:35:03.384803Z",
     "iopub.status.busy": "2021-11-05T07:35:03.383854Z",
     "iopub.status.idle": "2021-11-05T07:35:03.388240Z",
     "shell.execute_reply": "2021-11-05T07:35:03.388682Z",
     "shell.execute_reply.started": "2021-11-05T07:24:31.386867Z"
    },
    "papermill": {
     "duration": 0.03041,
     "end_time": "2021-11-05T07:35:03.388872",
     "exception": false,
     "start_time": "2021-11-05T07:35:03.358462",
     "status": "completed"
    },
    "tags": []
   },
   "outputs": [],
   "source": [
    "x = df['text']\n",
    "Y = df.label_num"
   ]
  },
  {
   "cell_type": "code",
   "execution_count": 9,
   "id": "54e6442b",
   "metadata": {
    "execution": {
     "iopub.execute_input": "2021-11-05T07:35:03.438173Z",
     "iopub.status.busy": "2021-11-05T07:35:03.437224Z",
     "iopub.status.idle": "2021-11-05T07:35:03.443486Z",
     "shell.execute_reply": "2021-11-05T07:35:03.442802Z",
     "shell.execute_reply.started": "2021-11-05T07:24:31.400631Z"
    },
    "papermill": {
     "duration": 0.031787,
     "end_time": "2021-11-05T07:35:03.443642",
     "exception": false,
     "start_time": "2021-11-05T07:35:03.411855",
     "status": "completed"
    },
    "tags": []
   },
   "outputs": [
    {
     "name": "stdout",
     "output_type": "stream",
     "text": [
      " enron methanol meter this is a follow up to the note i gave you on monday preliminary flow data provided by daren please override pop s daily volume presently zero to reflect daily activity you can obtain from gas control this change is needed asap for economics purposes\n",
      "(5171,)\n"
     ]
    }
   ],
   "source": [
    "print(x[0])\n",
    "print(x.shape)"
   ]
  },
  {
   "cell_type": "code",
   "execution_count": 10,
   "id": "819239c9",
   "metadata": {
    "execution": {
     "iopub.execute_input": "2021-11-05T07:35:03.492199Z",
     "iopub.status.busy": "2021-11-05T07:35:03.491498Z",
     "iopub.status.idle": "2021-11-05T07:35:03.570720Z",
     "shell.execute_reply": "2021-11-05T07:35:03.570143Z",
     "shell.execute_reply.started": "2021-11-05T07:24:31.413367Z"
    },
    "papermill": {
     "duration": 0.104655,
     "end_time": "2021-11-05T07:35:03.570883",
     "exception": false,
     "start_time": "2021-11-05T07:35:03.466228",
     "status": "completed"
    },
    "tags": []
   },
   "outputs": [
    {
     "name": "stdout",
     "output_type": "stream",
     "text": [
      " enron methanol meter this is a follow up to the note i gave you on monday preliminary flow data provided by daren please override pop s daily volume presently zero to reflect daily activity you can obtain from gas control this change is needed asap for economics purposes\n"
     ]
    }
   ],
   "source": [
    "spam=[]\n",
    "ham=[]\n",
    "def split():\n",
    "    for i in range(0,len(x)):\n",
    "        if(df['label_num'][i]==0):\n",
    "            ham.append(x[i])\n",
    "        else:\n",
    "            spam.append(x[i])\n",
    "split()\n",
    "print(ham[0])"
   ]
  },
  {
   "cell_type": "code",
   "execution_count": 11,
   "id": "3f22497e",
   "metadata": {
    "execution": {
     "iopub.execute_input": "2021-11-05T07:35:03.621791Z",
     "iopub.status.busy": "2021-11-05T07:35:03.621063Z",
     "iopub.status.idle": "2021-11-05T07:35:06.677590Z",
     "shell.execute_reply": "2021-11-05T07:35:06.676514Z",
     "shell.execute_reply.started": "2021-11-05T07:24:31.500739Z"
    },
    "papermill": {
     "duration": 3.083222,
     "end_time": "2021-11-05T07:35:06.677764",
     "exception": false,
     "start_time": "2021-11-05T07:35:03.594542",
     "status": "completed"
    },
    "tags": []
   },
   "outputs": [
    {
     "name": "stdout",
     "output_type": "stream",
     "text": [
      "Short Text Classification: A Survey\n"
     ]
    },
    {
     "data": {
      "image/png": "[encoded data removed]",
      "text/plain": [
       "<Figure size 432x288 with 1 Axes>"
      ]
     },
     "metadata": {
      "needs_background": "light"
     },
     "output_type": "display_data"
    }
   ],
   "source": [
    "\n",
    "stopwords = set(STOPWORDS)\n",
    "print('Short Text Classification: A Survey')\n",
    "#print(Counter(word_count(str(spam))).most_common(100))\n",
    "for i in range (0,len(x)):\n",
    "    text=' '.join(spam)\n",
    "    \n",
    "cloud = WordCloud(\n",
    "    max_font_size=50,\n",
    "    background_color='white',\n",
    "    max_words=50\n",
    "    ).generate(text)\n",
    "fig = plt.figure(1)\n",
    "plt.imshow(cloud)\n",
    "plt.axis('off')\n",
    "plt.show()\n",
    "fig.savefig(\"Short_Text_Classification\")"
   ]
  },
  {
   "cell_type": "code",
   "execution_count": 12,
   "id": "5a56a1d1",
   "metadata": {
    "execution": {
     "iopub.execute_input": "2021-11-05T07:35:06.733731Z",
     "iopub.status.busy": "2021-11-05T07:35:06.732682Z",
     "iopub.status.idle": "2021-11-05T07:35:10.924063Z",
     "shell.execute_reply": "2021-11-05T07:35:10.923432Z",
     "shell.execute_reply.started": "2021-11-05T07:24:34.419455Z"
    },
    "papermill": {
     "duration": 4.220438,
     "end_time": "2021-11-05T07:35:10.924252",
     "exception": false,
     "start_time": "2021-11-05T07:35:06.703814",
     "status": "completed"
    },
    "tags": []
   },
   "outputs": [
    {
     "name": "stdout",
     "output_type": "stream",
     "text": [
      "Short Text Classification: A Survey\n"
     ]
    },
    {
     "data": {
      "image/png": "[encoded data removed]",
      "text/plain": [
       "<Figure size 432x288 with 1 Axes>"
      ]
     },
     "metadata": {
      "needs_background": "light"
     },
     "output_type": "display_data"
    }
   ],
   "source": [
    "stopwords = set(STOPWORDS)\n",
    "print('Short Text Classification: A Survey')\n",
    "#print(Counter(word_count(str(spam))).most_common(100))\n",
    "for i in range (0,len(x)):\n",
    "    text1=' '.join(ham)\n",
    "    \n",
    "cloud = WordCloud(\n",
    "    max_font_size=50,\n",
    "    background_color='white',\n",
    "    max_words=50\n",
    "    ).generate(text1)\n",
    "fig = plt.figure(1)\n",
    "plt.imshow(cloud)\n",
    "plt.axis('off')\n",
    "plt.show()\n",
    "fig.savefig(\"Short_Text_Classification\")"
   ]
  },
  {
   "cell_type": "code",
   "execution_count": 13,
   "id": "9e3deae3",
   "metadata": {
    "execution": {
     "iopub.execute_input": "2021-11-05T07:35:10.985657Z",
     "iopub.status.busy": "2021-11-05T07:35:10.984944Z",
     "iopub.status.idle": "2021-11-05T07:35:12.001153Z",
     "shell.execute_reply": "2021-11-05T07:35:12.000430Z",
     "shell.execute_reply.started": "2021-11-05T07:24:38.530938Z"
    },
    "papermill": {
     "duration": 1.04791,
     "end_time": "2021-11-05T07:35:12.001353",
     "exception": false,
     "start_time": "2021-11-05T07:35:10.953443",
     "status": "completed"
    },
    "tags": []
   },
   "outputs": [],
   "source": [
    "from sklearn.feature_extraction.text import CountVectorizer\n",
    "cv = CountVectorizer()\n",
    "x = cv.fit_transform(x)\n",
    "\n",
    "# Get the categories\n",
    "y = df.label\n"
   ]
  },
  {
   "cell_type": "code",
   "execution_count": 14,
   "id": "a6672080",
   "metadata": {
    "execution": {
     "iopub.execute_input": "2021-11-05T07:35:12.067593Z",
     "iopub.status.busy": "2021-11-05T07:35:12.066597Z",
     "iopub.status.idle": "2021-11-05T07:35:12.072346Z",
     "shell.execute_reply": "2021-11-05T07:35:12.072991Z",
     "shell.execute_reply.started": "2021-11-05T07:24:39.514015Z"
    },
    "papermill": {
     "duration": 0.040288,
     "end_time": "2021-11-05T07:35:12.073259",
     "exception": false,
     "start_time": "2021-11-05T07:35:12.032971",
     "status": "completed"
    },
    "tags": []
   },
   "outputs": [
    {
     "name": "stdout",
     "output_type": "stream",
     "text": [
      "  (0, 14014)\t1\n",
      "  (0, 26332)\t1\n",
      "  (0, 26325)\t1\n",
      "  (0, 40282)\t2\n",
      "  (0, 21666)\t2\n",
      "  (0, 16145)\t1\n",
      "  (0, 42124)\t1\n",
      "  (0, 40663)\t2\n",
      "  (0, 40160)\t1\n",
      "  (0, 28511)\t1\n",
      "  (0, 17060)\t1\n",
      "  (0, 45238)\t2\n",
      "  (0, 29224)\t1\n",
      "  (0, 27019)\t1\n",
      "  (0, 31984)\t1\n",
      "  (0, 16034)\t1\n",
      "  (0, 10583)\t1\n",
      "  (0, 32527)\t1\n",
      "  (0, 6061)\t1\n",
      "  (0, 10526)\t1\n",
      "  (0, 31355)\t1\n",
      "  (0, 29788)\t1\n",
      "  (0, 31615)\t1\n",
      "  (0, 10428)\t2\n",
      "  (0, 43171)\t1\n",
      "  (0, 32049)\t1\n",
      "  (0, 45469)\t1\n",
      "  (0, 33952)\t1\n",
      "  (0, 439)\t1\n",
      "  (0, 6337)\t1\n",
      "  (0, 28852)\t1\n",
      "  (0, 16582)\t1\n",
      "  (0, 17005)\t1\n",
      "  (0, 9237)\t1\n",
      "  (0, 7206)\t1\n",
      "  (0, 27917)\t1\n",
      "  (0, 2542)\t1\n",
      "  (0, 16206)\t1\n",
      "  (0, 13193)\t1\n",
      "  (0, 32771)\t1\n"
     ]
    }
   ],
   "source": [
    "print(x[0])"
   ]
  },
  {
   "cell_type": "code",
   "execution_count": 15,
   "id": "3d96cb9f",
   "metadata": {
    "execution": {
     "iopub.execute_input": "2021-11-05T07:35:12.135287Z",
     "iopub.status.busy": "2021-11-05T07:35:12.134212Z",
     "iopub.status.idle": "2021-11-05T07:35:12.142338Z",
     "shell.execute_reply": "2021-11-05T07:35:12.142848Z",
     "shell.execute_reply.started": "2021-11-05T07:24:39.521533Z"
    },
    "papermill": {
     "duration": 0.040773,
     "end_time": "2021-11-05T07:35:12.143045",
     "exception": false,
     "start_time": "2021-11-05T07:35:12.102272",
     "status": "completed"
    },
    "tags": []
   },
   "outputs": [
    {
     "name": "stdout",
     "output_type": "stream",
     "text": [
      "(5171, 45740)\n"
     ]
    }
   ],
   "source": [
    "print(x.shape)"
   ]
  },
  {
   "cell_type": "code",
   "execution_count": 16,
   "id": "f00ffb29",
   "metadata": {
    "execution": {
     "iopub.execute_input": "2021-11-05T07:35:12.215751Z",
     "iopub.status.busy": "2021-11-05T07:35:12.215041Z",
     "iopub.status.idle": "2021-11-05T07:35:12.226979Z",
     "shell.execute_reply": "2021-11-05T07:35:12.228384Z",
     "shell.execute_reply.started": "2021-11-05T07:24:39.535662Z"
    },
    "papermill": {
     "duration": 0.053376,
     "end_time": "2021-11-05T07:35:12.228598",
     "exception": false,
     "start_time": "2021-11-05T07:35:12.175222",
     "status": "completed"
    },
    "tags": []
   },
   "outputs": [],
   "source": [
    "from sklearn.model_selection import train_test_split\n",
    "\n",
    "x_train, x_test , y_train, y_test = train_test_split(x,y , test_size = 0.2, random_state =20)\n"
   ]
  },
  {
   "cell_type": "code",
   "execution_count": 17,
   "id": "56e1af15",
   "metadata": {
    "execution": {
     "iopub.execute_input": "2021-11-05T07:35:12.296426Z",
     "iopub.status.busy": "2021-11-05T07:35:12.295548Z",
     "iopub.status.idle": "2021-11-05T07:35:12.300303Z",
     "shell.execute_reply": "2021-11-05T07:35:12.299118Z",
     "shell.execute_reply.started": "2021-11-05T07:24:39.551503Z"
    },
    "papermill": {
     "duration": 0.038609,
     "end_time": "2021-11-05T07:35:12.300503",
     "exception": false,
     "start_time": "2021-11-05T07:35:12.261894",
     "status": "completed"
    },
    "tags": []
   },
   "outputs": [
    {
     "name": "stdout",
     "output_type": "stream",
     "text": [
      "Training X Shape: (4136, 45740)\n",
      "Testing X Shape: (1035, 45740)\n"
     ]
    }
   ],
   "source": [
    "print(\"Training X Shape:\",x_train.shape)\n",
    "print(\"Testing X Shape:\",x_test.shape)"
   ]
  },
  {
   "cell_type": "code",
   "execution_count": 18,
   "id": "eb1ecbb2",
   "metadata": {
    "execution": {
     "iopub.execute_input": "2021-11-05T07:35:12.368069Z",
     "iopub.status.busy": "2021-11-05T07:35:12.367163Z",
     "iopub.status.idle": "2021-11-05T07:35:12.833813Z",
     "shell.execute_reply": "2021-11-05T07:35:12.833148Z",
     "shell.execute_reply.started": "2021-11-05T07:24:39.561262Z"
    },
    "papermill": {
     "duration": 0.50345,
     "end_time": "2021-11-05T07:35:12.833970",
     "exception": false,
     "start_time": "2021-11-05T07:35:12.330520",
     "status": "completed"
    },
    "tags": []
   },
   "outputs": [
    {
     "name": "stdout",
     "output_type": "stream",
     "text": [
      "0.9768115942028985\n",
      "0.46\n"
     ]
    }
   ],
   "source": [
    "Accuracy=[]\n",
    "Duration=[]\n",
    "from sklearn.linear_model import LogisticRegression\n",
    "from sklearn.metrics import accuracy_score\n",
    "start = perf_counter()\n",
    "logreg=LogisticRegression(solver='liblinear')\n",
    "logreg=logreg.fit(x_train,y_train)\n",
    "prediction=logreg.predict(x_test)\n",
    "Accuracy.append(accuracy_score(prediction,y_test))\n",
    "print(Accuracy[0])\n",
    "\n",
    "duration = perf_counter() - start\n",
    "duration = round(duration,2)\n",
    "Duration.append(duration)\n",
    "print(Duration[0])"
   ]
  },
  {
   "cell_type": "code",
   "execution_count": 19,
   "id": "00b653f2",
   "metadata": {
    "execution": {
     "iopub.execute_input": "2021-11-05T07:35:12.897928Z",
     "iopub.status.busy": "2021-11-05T07:35:12.897231Z",
     "iopub.status.idle": "2021-11-05T07:35:12.936616Z",
     "shell.execute_reply": "2021-11-05T07:35:12.937155Z",
     "shell.execute_reply.started": "2021-11-05T07:24:40.009958Z"
    },
    "papermill": {
     "duration": 0.072776,
     "end_time": "2021-11-05T07:35:12.937379",
     "exception": false,
     "start_time": "2021-11-05T07:35:12.864603",
     "status": "completed"
    },
    "tags": []
   },
   "outputs": [
    {
     "name": "stdout",
     "output_type": "stream",
     "text": [
      "0.9806763285024155\n",
      "0.03\n"
     ]
    }
   ],
   "source": [
    "from sklearn.naive_bayes import MultinomialNB\n",
    "from sklearn.metrics import accuracy_score\n",
    "start = perf_counter()\n",
    "clf = MultinomialNB()\n",
    "clf.fit(x_train, y_train)\n",
    "naive_predict=clf.predict(x_test)\n",
    "Accuracy.append(accuracy_score(naive_predict,y_test))\n",
    "print(Accuracy[1])\n",
    "duration = perf_counter() - start\n",
    "duration = round(duration,2)\n",
    "Duration.append(duration)\n",
    "print(Duration[1])"
   ]
  },
  {
   "cell_type": "code",
   "execution_count": 20,
   "id": "434dfc8b",
   "metadata": {
    "execution": {
     "iopub.execute_input": "2021-11-05T07:35:13.002816Z",
     "iopub.status.busy": "2021-11-05T07:35:13.001869Z",
     "iopub.status.idle": "2021-11-05T07:35:14.165017Z",
     "shell.execute_reply": "2021-11-05T07:35:14.165534Z",
     "shell.execute_reply.started": "2021-11-05T07:24:40.048719Z"
    },
    "papermill": {
     "duration": 1.198062,
     "end_time": "2021-11-05T07:35:14.165741",
     "exception": false,
     "start_time": "2021-11-05T07:35:12.967679",
     "status": "completed"
    },
    "tags": []
   },
   "outputs": [
    {
     "name": "stdout",
     "output_type": "stream",
     "text": [
      "0.7816425120772947\n",
      "1.04\n"
     ]
    }
   ],
   "source": [
    "from sklearn.ensemble import RandomForestClassifier\n",
    "start = perf_counter()\n",
    "forest_clf = RandomForestClassifier(max_depth=10, random_state=0)\n",
    "forest_clf.fit(x_train,y_train)\n",
    "ran_pred=forest_clf.predict(x_test)\n",
    "Accuracy.append(accuracy_score(ran_pred,y_test))\n",
    "print(Accuracy[2])\n",
    "duration = perf_counter() - start\n",
    "duration = round(duration,2)\n",
    "Duration.append(duration)\n",
    "print(Duration[2])"
   ]
  },
  {
   "cell_type": "code",
   "execution_count": 21,
   "id": "a2f85221",
   "metadata": {
    "execution": {
     "iopub.execute_input": "2021-11-05T07:35:14.234823Z",
     "iopub.status.busy": "2021-11-05T07:35:14.233873Z",
     "iopub.status.idle": "2021-11-05T07:35:15.057975Z",
     "shell.execute_reply": "2021-11-05T07:35:15.058569Z",
     "shell.execute_reply.started": "2021-11-05T07:24:41.177906Z"
    },
    "papermill": {
     "duration": 0.862646,
     "end_time": "2021-11-05T07:35:15.058771",
     "exception": false,
     "start_time": "2021-11-05T07:35:14.196125",
     "status": "completed"
    },
    "tags": []
   },
   "outputs": [
    {
     "name": "stdout",
     "output_type": "stream",
     "text": [
      "0.9536231884057971\n",
      "0.82\n"
     ]
    }
   ],
   "source": [
    "from sklearn.tree import DecisionTreeClassifier\n",
    "from sklearn.model_selection import cross_val_score\n",
    "start = perf_counter()\n",
    "tree = DecisionTreeClassifier(criterion='entropy') # function to measure the quality of split \n",
    "tree.fit(x_train,y_train)\n",
    "ran=tree.predict(x_test)\n",
    "Accuracy.append(accuracy_score(ran,y_test))\n",
    "print(Accuracy[3])\n",
    "duration = perf_counter() - start\n",
    "duration = round(duration,2)\n",
    "Duration.append(duration)\n",
    "print(Duration[3])"
   ]
  },
  {
   "cell_type": "code",
   "execution_count": 22,
   "id": "23ec7b54",
   "metadata": {
    "execution": {
     "iopub.execute_input": "2021-11-05T07:35:15.126065Z",
     "iopub.status.busy": "2021-11-05T07:35:15.125447Z",
     "iopub.status.idle": "2021-11-05T07:35:15.148383Z",
     "shell.execute_reply": "2021-11-05T07:35:15.147736Z",
     "shell.execute_reply.started": "2021-11-05T07:24:42.011006Z"
    },
    "papermill": {
     "duration": 0.057325,
     "end_time": "2021-11-05T07:35:15.148567",
     "exception": false,
     "start_time": "2021-11-05T07:35:15.091242",
     "status": "completed"
    },
    "tags": []
   },
   "outputs": [
    {
     "data": {
      "text/html": [
       "<div>\n",
       "<style scoped>\n",
       "    .dataframe tbody tr th:only-of-type {\n",
       "        vertical-align: middle;\n",
       "    }\n",
       "\n",
       "    .dataframe tbody tr th {\n",
       "        vertical-align: top;\n",
       "    }\n",
       "\n",
       "    .dataframe thead th {\n",
       "        text-align: right;\n",
       "    }\n",
       "</style>\n",
       "<table border=\"1\" class=\"dataframe\">\n",
       "  <thead>\n",
       "    <tr style=\"text-align: right;\">\n",
       "      <th></th>\n",
       "      <th>Model</th>\n",
       "      <th>Accuracy</th>\n",
       "      <th>Training time (sec)</th>\n",
       "    </tr>\n",
       "  </thead>\n",
       "  <tbody>\n",
       "    <tr>\n",
       "      <th>0</th>\n",
       "      <td>MultinomialNB</td>\n",
       "      <td>0.980676</td>\n",
       "      <td>0.03</td>\n",
       "    </tr>\n",
       "    <tr>\n",
       "      <th>1</th>\n",
       "      <td>LogisticRegression</td>\n",
       "      <td>0.976812</td>\n",
       "      <td>0.46</td>\n",
       "    </tr>\n",
       "    <tr>\n",
       "      <th>2</th>\n",
       "      <td>DecisionTreeClassifier</td>\n",
       "      <td>0.953623</td>\n",
       "      <td>0.82</td>\n",
       "    </tr>\n",
       "    <tr>\n",
       "      <th>3</th>\n",
       "      <td>RandomForestClassifier</td>\n",
       "      <td>0.781643</td>\n",
       "      <td>1.04</td>\n",
       "    </tr>\n",
       "  </tbody>\n",
       "</table>\n",
       "</div>"
      ],
      "text/plain": [
       "                    Model  Accuracy  Training time (sec)\n",
       "0           MultinomialNB  0.980676                 0.03\n",
       "1      LogisticRegression  0.976812                 0.46\n",
       "2  DecisionTreeClassifier  0.953623                 0.82\n",
       "3  RandomForestClassifier  0.781643                 1.04"
      ]
     },
     "execution_count": 22,
     "metadata": {},
     "output_type": "execute_result"
    }
   ],
   "source": [
    "model=[\"LogisticRegression\", \"MultinomialNB\",\"RandomForestClassifier\", \"DecisionTreeClassifier\"]\n",
    "models_acc = []\n",
    "for i in range(0,4):\n",
    "    models_acc.append([model[i],Accuracy[i],Duration[i]])\n",
    "df_acc = pd.DataFrame(models_acc)\n",
    "df_acc.columns = ['Model', 'Accuracy', 'Training time (sec)']\n",
    "df_acc.sort_values(by = 'Accuracy', ascending = False, inplace=True)\n",
    "df_acc.reset_index(drop = True, inplace=True)\n",
    "df_acc"
   ]
  },
  {
   "cell_type": "code",
   "execution_count": 23,
   "id": "6d83bac0",
   "metadata": {
    "execution": {
     "iopub.execute_input": "2021-11-05T07:35:15.223006Z",
     "iopub.status.busy": "2021-11-05T07:35:15.222335Z",
     "iopub.status.idle": "2021-11-05T07:35:15.395704Z",
     "shell.execute_reply": "2021-11-05T07:35:15.395072Z",
     "shell.execute_reply.started": "2021-11-05T07:24:42.031387Z"
    },
    "papermill": {
     "duration": 0.215309,
     "end_time": "2021-11-05T07:35:15.395865",
     "exception": false,
     "start_time": "2021-11-05T07:35:15.180556",
     "status": "completed"
    },
    "tags": []
   },
   "outputs": [
    {
     "data": {
      "image/png": "[encoded data removed]",
      "text/plain": [
       "<Figure size 1080x360 with 1 Axes>"
      ]
     },
     "metadata": {
      "needs_background": "light"
     },
     "output_type": "display_data"
    }
   ],
   "source": [
    "plt.figure(figsize = (15,5))\n",
    "sns.barplot(x = 'Model', y = 'Accuracy', data = df_acc)\n",
    "plt.title('Accuracy on the test set\\n(the Y-Axis is between 0.8 and 1.0)', fontsize = 15)\n",
    "plt.ylim(0.7,1)\n",
    "plt.show()"
   ]
  },
  {
   "cell_type": "code",
   "execution_count": 24,
   "id": "b7195769",
   "metadata": {
    "execution": {
     "iopub.execute_input": "2021-11-05T07:35:15.491060Z",
     "iopub.status.busy": "2021-11-05T07:35:15.490350Z",
     "iopub.status.idle": "2021-11-05T07:35:15.632197Z",
     "shell.execute_reply": "2021-11-05T07:35:15.630875Z",
     "shell.execute_reply.started": "2021-11-05T07:24:42.217896Z"
    },
    "papermill": {
     "duration": 0.203416,
     "end_time": "2021-11-05T07:35:15.632395",
     "exception": false,
     "start_time": "2021-11-05T07:35:15.428979",
     "status": "completed"
    },
    "tags": []
   },
   "outputs": [
    {
     "data": {
      "image/png": "[encoded data removed]",
      "text/plain": [
       "<Figure size 1080x360 with 1 Axes>"
      ]
     },
     "metadata": {
      "needs_background": "light"
     },
     "output_type": "display_data"
    }
   ],
   "source": [
    "plt.figure(figsize = (15,5))\n",
    "sns.barplot(x = 'Model', y = 'Training time (sec)', data = df_acc)\n",
    "plt.title('Training time for each model in sec', fontsize = 15)\n",
    "plt.ylim(0,1.5)\n",
    "plt.show()"
   ]
  },
  {
   "cell_type": "code",
   "execution_count": 25,
   "id": "90463e87",
   "metadata": {
    "execution": {
     "iopub.execute_input": "2021-11-05T07:35:15.722353Z",
     "iopub.status.busy": "2021-11-05T07:35:15.717845Z",
     "iopub.status.idle": "2021-11-05T07:35:15.771421Z",
     "shell.execute_reply": "2021-11-05T07:35:15.770869Z",
     "shell.execute_reply.started": "2021-11-05T07:25:08.786377Z"
    },
    "papermill": {
     "duration": 0.106609,
     "end_time": "2021-11-05T07:35:15.771591",
     "exception": false,
     "start_time": "2021-11-05T07:35:15.664982",
     "status": "completed"
    },
    "tags": []
   },
   "outputs": [
    {
     "data": {
      "text/markdown": [
       "**Real: spam, Predicted: spam**"
      ],
      "text/plain": [
       "<IPython.core.display.Markdown object>"
      ]
     },
     "metadata": {},
     "output_type": "display_data"
    },
    {
     "data": {
      "text/markdown": [
       "**E-Mail:  photoshop windows office cheap main trending abasements darer prudently fortuitous undergone lighthearted charm orinoco taster railroad affluent pornographic cuvier irvin parkhouse blameworthy chlorophyll robed diagrammatic fogarty clears bayda inconveniencing managing represented smartness hashish academies shareholders unload badness danielson pure caffein spaniard chargeable levin**"
      ],
      "text/plain": [
       "<IPython.core.display.Markdown object>"
      ]
     },
     "metadata": {},
     "output_type": "display_data"
    },
    {
     "data": {
      "text/markdown": [
       "_______________________________________________________________"
      ],
      "text/plain": [
       "<IPython.core.display.Markdown object>"
      ]
     },
     "metadata": {},
     "output_type": "display_data"
    },
    {
     "name": "stdout",
     "output_type": "stream",
     "text": [
      "\n",
      "\n"
     ]
    },
    {
     "data": {
      "text/markdown": [
       "**Real: spam, Predicted: spam**"
      ],
      "text/plain": [
       "<IPython.core.display.Markdown object>"
      ]
     },
     "metadata": {},
     "output_type": "display_data"
    },
    {
     "data": {
      "text/markdown": [
       "**E-Mail:  looking for medication we re the best source it is difficult to make our material condition better by the best law but it is easy enough to ruin it by bad laws excuse me you just found the best and simpliest site for medication on the net no perscription easy delivery private secure and easy better see rightly on a pound a week than squint on a million we ve got anything that you will ever want erection treatment pills anti depressant pills weight loss and more http splicings bombahakcx com knowledge and human power are synonymous only high quality stuff for low rates moneyback guarantee there is no god nature sufficeth unto herself in no wise hath she need of an author**"
      ],
      "text/plain": [
       "<IPython.core.display.Markdown object>"
      ]
     },
     "metadata": {},
     "output_type": "display_data"
    },
    {
     "data": {
      "text/markdown": [
       "_______________________________________________________________"
      ],
      "text/plain": [
       "<IPython.core.display.Markdown object>"
      ]
     },
     "metadata": {},
     "output_type": "display_data"
    },
    {
     "name": "stdout",
     "output_type": "stream",
     "text": [
      "\n",
      "\n"
     ]
    },
    {
     "data": {
      "text/markdown": [
       "**Real: ham, Predicted: ham**"
      ],
      "text/plain": [
       "<IPython.core.display.Markdown object>"
      ]
     },
     "metadata": {},
     "output_type": "display_data"
    },
    {
     "data": {
      "text/markdown": [
       "**E-Mail:  enron methanol meter this is a follow up to the note i gave you on monday preliminary flow data provided by daren please override pop s daily volume presently zero to reflect daily activity you can obtain from gas control this change is needed asap for economics purposes**"
      ],
      "text/plain": [
       "<IPython.core.display.Markdown object>"
      ]
     },
     "metadata": {},
     "output_type": "display_data"
    },
    {
     "data": {
      "text/markdown": [
       "_______________________________________________________________"
      ],
      "text/plain": [
       "<IPython.core.display.Markdown object>"
      ]
     },
     "metadata": {},
     "output_type": "display_data"
    },
    {
     "name": "stdout",
     "output_type": "stream",
     "text": [
      "\n",
      "\n"
     ]
    },
    {
     "data": {
      "text/markdown": [
       "**Real: ham, Predicted: ham**"
      ],
      "text/plain": [
       "<IPython.core.display.Markdown object>"
      ]
     },
     "metadata": {},
     "output_type": "display_data"
    },
    {
     "data": {
      "text/markdown": [
       "**E-Mail:  hpl nom for january see attached file hplnol xls hplnol xls**"
      ],
      "text/plain": [
       "<IPython.core.display.Markdown object>"
      ]
     },
     "metadata": {},
     "output_type": "display_data"
    },
    {
     "data": {
      "text/markdown": [
       "_______________________________________________________________"
      ],
      "text/plain": [
       "<IPython.core.display.Markdown object>"
      ]
     },
     "metadata": {},
     "output_type": "display_data"
    },
    {
     "name": "stdout",
     "output_type": "stream",
     "text": [
      "\n",
      "\n"
     ]
    }
   ],
   "source": [
    "model = MultinomialNB()\n",
    "model.fit(x_train,y_train)\n",
    "y_pred = model.predict(x_test)\n",
    "def display_result(df, number=2):\n",
    "    for i in range(number):\n",
    "        msg = df['text'].iloc[i]\n",
    "        label = df[\"label\"].iloc[i]\n",
    "        msg_vec = cv.transform([msg])\n",
    "        pred_label = model.predict(msg_vec)\n",
    "        printmd(f\"**Real: {label}, Predicted: {pred_label[0]}**\")\n",
    "        printmd(f\"**E-Mail: {msg}**\")\n",
    "        printmd(\"_______________________________________________________________\")\n",
    "        print()\n",
    "        print()\n",
    "        \n",
    "    \n",
    "df_spam = df[df['label'] == 'spam']\n",
    "df_ham = df[df['label'] == 'ham']\n",
    "display_result(df_spam)\n",
    "display_result(df_ham)"
   ]
  }
 ],
 "metadata": {
  "kernelspec": {
   "display_name": "Python 3",
   "language": "python",
   "name": "python3"
  },
  "language_info": {
   "codemirror_mode": {
    "name": "ipython",
    "version": 3
   },
   "file_extension": ".py",
   "mimetype": "text/x-python",
   "name": "python",
   "nbconvert_exporter": "python",
   "pygments_lexer": "ipython3",
   "version": "3.7.10"
  },
  "papermill": {
   "default_parameters": {},
   "duration": 24.729774,
   "end_time": "2021-11-05T07:35:16.924899",
   "environment_variables": {},
   "exception": null,
   "input_path": "__notebook__.ipynb",
   "output_path": "__notebook__.ipynb",
   "parameters": {},
   "start_time": "2021-11-05T07:34:52.195125",
   "version": "2.3.3"
  }
 },
 "nbformat": 4,
 "nbformat_minor": 5
}
